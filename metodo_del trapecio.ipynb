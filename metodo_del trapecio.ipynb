{
 "cells": [
  {
   "cell_type": "markdown",
   "id": "d4431875-705e-4816-a419-9eb372eb9cfa",
   "metadata": {},
   "source": [
    "# **Método del trapecio - Ejercicios**\n",
    "\n",
    "### Realizado por: \n"
   ]
  },
  {
   "cell_type": "markdown",
   "id": "7c958546-8ced-42da-996f-cdf2596de631",
   "metadata": {},
   "source": [
    "El metodo del trapecio se usa para encontrar la aproximación de una integral definida. La idea básica en el metodo del trapecio es asumir que la región debajo del gráfico de la función dada es un trapezoide y calcular su área. De ello se deduce que:\n",
    "\n",
    "#### $\\int_{a}^{b} f(x)dx\\approx (b-a)\\left [ \\frac{f(a)+f(b)}{2} \\right ]$"
   ]
  },
  {
   "cell_type": "markdown",
   "id": "d0d19714-c199-4648-947e-448c6d3d5c5f",
   "metadata": {},
   "source": [
    "Para obtener resultados más precisos, el dominio del gráfico se divide en n segmentos de igual tamaño como se muestra a continuación: \n",
    "\n",
    "<img src=\"trapecio.jpg\" style=\"width:200px;heigh:200\">"
   ]
  },
  {
   "cell_type": "markdown",
   "id": "6b29ad9c-5a06-43f3-8028-9982685ae4c5",
   "metadata": {},
   "source": [
    "Espaciado de cuadrícula o tamaño de segmento h = (ba) / n. Por tanto, el valor aproximado de la integral puede estar dado por: \n",
    "\n",
    "#### $\\int_{a}^{b} f(x)dx = \\frac{b-a}{2n}\\left [ f(a)+2 \\left \\{ \\sum _{i=1}^{n-1}f(a+ih)   \\right \\} +f(b)\\right ]$"
   ]
  },
  {
   "cell_type": "markdown",
   "id": "23d27862-8121-4b00-ab5e-f0fbc8157148",
   "metadata": {},
   "source": [
    "### **Algoritmo** \n",
    "\n",
    "\n",
    "**Entrada:** Función f, que es función continua, intervalo [a, b] y número de iteraciones a realizar - n.\n",
    "\n",
    "**Salida:** Aproximación integral definida de una función dada en un intervalo dado.\n",
    "\n",
    "1. Calcule el paso = (b - a) / n. Se utilizará como tamaño de paso de cada iteración.\n",
    "2. Asigne $0.5*(f(a)+f(b))$ a la variable integral.\n",
    "3. Inicialice la variable i a 0.\n",
    "4. Sume $f(a+paso*i)$ a la variable integral.\n",
    "5. Incrementar i en uno.\n",
    "6. Compruebe si i es menor que n. Si es así, vaya al paso 4.\n",
    "7. Multiplica la integral por paso.\n",
    "8. Finalizar algoritmo y devolver integral."
   ]
  },
  {
   "cell_type": "markdown",
   "id": "ec1b60bc-2ac3-42d2-8b03-6b9a48c68b48",
   "metadata": {},
   "source": [
    "### **Integración de Romberg**\n",
    "\n",
    "El método de Romberg para encontrar una integral definida combina dos fórmulas, la regla trapezoidal extendida y la extrapolación de Richardson , para obtener una buena aproximación en un número relativamente bajo de pasos. La forma más sencilla de encontrar una integral definida de la función f en el intervalo (a, b) es usar una regla trapezoidal.\n",
    "\n",
    "### $\\int_{a}^{b}f(x)dx\\approx \\frac{b-a}{2}(f(a)+f(b))$\n",
    "\n",
    "También puede notar que hay un cierto error que se puede mejorar usando la regla trapezoidal extendida. Divida el intervalo (a, b) en dos mitades, aplique la regla trapezoidal en cada mitad y resuma.\n",
    "\n",
    "### $\\int_{a}^{b}f(x)dx\\approx \\frac{b-a}{4}(f(a)+2f(\\frac{a+b}{2})+f(b))$\n",
    "\n",
    "El problema es que la convergencia de esta manera sería muy lenta. Y aquí viene la extrapolación de Richardson al rescate. En la extrapolación de Richardson, tomamos dos estimaciones erróneas y las combinamos en una buena. \n",
    "\n",
    "Finalmente, el método de Romberg construye una tabla de estimaciones con resultados sorprendentemente precisos. tenga en cuenta que la Extrapolación de Richardson se define como \n",
    "\n",
    "### $f(0)=\\frac{2^{k}F(\\frac{h}{2})-F(h))}{2^{k}-1}+0(h^{k+1})$"
   ]
  },
  {
   "cell_type": "markdown",
   "id": "1b0f1bf4-eeff-42d9-a8e1-1957515d322b",
   "metadata": {},
   "source": [
    "### **Error absoluto** $10^{-2}$"
   ]
  },
  {
   "cell_type": "code",
   "execution_count": 21,
   "id": "30409556-b18b-4ff4-84c4-45ad2c119dfd",
   "metadata": {},
   "outputs": [
    {
     "name": "stdout",
     "output_type": "stream",
     "text": [
      "0.01\n"
     ]
    }
   ],
   "source": [
    "print(abs(10**(-2)))"
   ]
  },
  {
   "cell_type": "markdown",
   "id": "1e0eae06-f666-48f0-a4f3-272e3c09b600",
   "metadata": {},
   "source": [
    "### NOTA: el codigo aplica para todos los ejercicios, lo unico que cambia es la funcion objetivo y el valor real"
   ]
  },
  {
   "cell_type": "markdown",
   "id": "1ec817d1-bb18-4eda-9c67-e5deae194b47",
   "metadata": {},
   "source": [
    "### **Ejercicio a):** $\\frac{e^{x}}{x}$\n",
    "\n"
   ]
  },
  {
   "cell_type": "code",
   "execution_count": 23,
   "id": "03ce1ba7-24fa-46b9-9d9b-568f540499ee",
   "metadata": {},
   "outputs": [
    {
     "name": "stdout",
     "output_type": "stream",
     "text": [
      " [j] estimado  error\n",
      "  3  9.034211  0.0009545106552498\n",
      "  5  9.033257  0.0000009356396813\n",
      "  7  9.033257  0.0000005729794985\n",
      "  9  9.033257  0.0000005729754768\n",
      " 11  9.033257  0.0000005729754697\n",
      " 13  9.033257  0.0000005729754626\n",
      " 15  9.033257  0.0000005729754964\n",
      " 17  9.033257  0.0000005729754484\n",
      " 19  9.033257  0.0000005729755301\n",
      " 21  9.033257  0.0000005729756296\n"
     ]
    }
   ],
   "source": [
    "import math\n",
    "from math import e\n",
    "from math import pi\n",
    "# funcion objetivo (A)\n",
    "def f(x):\n",
    "    return (e**x)/x\n",
    "#Calcule una aproximación a la integral de f (x) de a a b usando trapezoides con pasos de tamaño (b-a) / N\n",
    "def trapezoideArea(a,b,N):\n",
    "    h = (b-a)/N;\n",
    "    sum = 0.0;  \n",
    "    for k in range(N):\n",
    "        termino = h*(f(a+k*h)+f(a+(k+1)*h))/2#ecuacion del trapezoide\n",
    "        sum += termino\n",
    "    return sum\n",
    "# La fórmula de Romberg definida de forma recursiva con almacenamiento en matriz r_int calculará R [k, j] \n",
    "# pero luego recordará ese resultado en la lista R para acelerar los cálculos posteriores.\n",
    "def r_int(a,b,k,j,R):\n",
    "    if R[k][j] != -1: #¿se ha visto este k, j antes?\n",
    "        return R[k][j] # Si es así, devuelva el valor en matriz\n",
    "    # Si no es así, calcule, almacene en matriz y devuelva el resultado\n",
    "    if j == 1:\n",
    "        R[k][j] = trapezoideArea(a,b,2**(k-1))\n",
    "    elif k < j:\n",
    "        R[k][j] = 0\n",
    "    else:\n",
    "        R[k][j] = r_int(a,b,k,j-1,R) + (r_int(a,b,k,j-1,R)-r_int(a,b,k-1,j-1,R))/(4**(j-1)-1)#ecuacion de romberg\n",
    "    return R[k][j]     \n",
    "#invoca el algoritmo de Romberg\n",
    "def romberg(a,b,k,j):\n",
    "    R = [[-1 for c in range(j+1)] for r in range(k+1)]#llena una matriz\n",
    "    return r_int(a,b,k,j,R)\n",
    "        \n",
    "print(\" [j] estimado  error\");\n",
    "for j in range(3,22,2):#inicia iterando desde 3 hasta 22 con saltos de impares\n",
    "    estimado = romberg(1,math.pi,j,j)#se invoca la funcion enviandole como parametros los limites de la inegral y los iteradores\n",
    "    error = math.fabs(9.033256 - estimado)#valor real vs estimado\n",
    "    print(\"{:>3d}  {:f}  {:.16f}\".format(j,estimado,error))#tabla de resultados "
   ]
  },
  {
   "cell_type": "markdown",
   "id": "47b52bb0-6dd8-4d89-b7d2-8fca5f06af9d",
   "metadata": {},
   "source": [
    "### **Ejercicio b):** $\\frac{e^{-x}}{x}$\n",
    "\n"
   ]
  },
  {
   "cell_type": "code",
   "execution_count": 12,
   "id": "95bf718b-9930-4fff-b8de-db7927c94166",
   "metadata": {},
   "outputs": [
    {
     "name": "stdout",
     "output_type": "stream",
     "text": [
      " [j] estimado  error\n",
      "  3  0.209330  0.0008525270168904\n",
      "  5  0.208478  0.0000003961044134\n",
      "  7  0.208478  0.0000000335002748\n",
      "  9  0.208478  0.0000000334962460\n",
      " 11  0.208478  0.0000000334962462\n",
      " 13  0.208478  0.0000000334962474\n",
      " 15  0.208478  0.0000000334962438\n",
      " 17  0.208478  0.0000000334962476\n",
      " 19  0.208478  0.0000000334962476\n",
      " 21  0.208478  0.0000000334962328\n"
     ]
    }
   ],
   "source": [
    "import math\n",
    "from math import e\n",
    "from math import pi\n",
    "# funcion objetivo (B)\n",
    "def f(x):\n",
    "    return (e**-x)/x\n",
    "#Calcule una aproximación a la integral de f (x) de a a b usando trapezoides con pasos de tamaño (b-a) / N\n",
    "def trapezoideArea(a,b,N):\n",
    "    h = (b-a)/N;\n",
    "    sum = 0.0;  \n",
    "    for k in range(N):\n",
    "        termino = h*(f(a+k*h)+f(a+(k+1)*h))/2\n",
    "        sum += termino\n",
    "    return sum\n",
    "# La fórmula de Romberg definida de forma recursiva con almacenamiento en caché r_int calculará R [k, j] \n",
    "# pero luego recordará ese resultado en la lista R para acelerar los cálculos posteriores.\n",
    "def r_int(a,b,k,j,R):\n",
    "    if R[k][j] != -1: #¿se ha visto este k, j antes?\n",
    "        return R[k][j] # Si es así, devuelva el valor en caché        \n",
    "    # Si no es así, calcule, almacene en caché y devuelva el resultado\n",
    "    if j == 1:\n",
    "        R[k][j] = trapezoideArea(a,b,2**(k-1))\n",
    "    elif k < j:\n",
    "        R[k][j] = 0\n",
    "    else:\n",
    "        R[k][j] = r_int(a,b,k,j-1,R) + (r_int(a,b,k,j-1,R)-r_int(a,b,k-1,j-1,R))/(4**(j-1)-1)\n",
    "    return R[k][j]     \n",
    "def romberg(a,b,k,j):\n",
    "    R = [[-1 for c in range(j+1)] for r in range(k+1)]\n",
    "    return r_int(a,b,k,j,R)\n",
    "        \n",
    "print(\" [j] estimado  error\");\n",
    "for j in range(3,22,2):\n",
    "    estimado = romberg(1,math.pi,j,j)\n",
    "    error = math.fabs(0.2084776 - estimado)\n",
    "    print(\"{:>3d}  {:f}  {:.16f}\".format(j,estimado,error))"
   ]
  },
  {
   "cell_type": "markdown",
   "id": "d6ca3630-4687-4bdb-a193-687ce54b7079",
   "metadata": {},
   "source": [
    "### **Ejercicio c):** $sin(x^{2})$\n",
    "\n"
   ]
  },
  {
   "cell_type": "code",
   "execution_count": 13,
   "id": "7386f01a-412d-417b-ab5e-e0dc13f69217",
   "metadata": {},
   "outputs": [
    {
     "name": "stdout",
     "output_type": "stream",
     "text": [
      " [j] estimado  error\n",
      "  3  0.717108  0.2547243708873208\n",
      "  5  0.462169  0.0002143834854566\n",
      "  7  0.462383  0.0000000090970424\n",
      "  9  0.462383  0.0000000109666855\n",
      " 11  0.462383  0.0000000109666839\n",
      " 13  0.462383  0.0000000109666864\n",
      " 15  0.462383  0.0000000109666778\n",
      " 17  0.462383  0.0000000109666773\n",
      " 19  0.462383  0.0000000109666735\n",
      " 21  0.462383  0.0000000109667185\n"
     ]
    }
   ],
   "source": [
    "import math\n",
    "from math import e\n",
    "from math import pi\n",
    "from math import sin\n",
    "from math import cos\n",
    "# funcion objetivo (C)\n",
    "def f(x):\n",
    "    return sin(x**2)\n",
    "#Calcule una aproximación a la integral de f (x) de a a b usando trapezoides con pasos de tamaño (b-a) / N\n",
    "def trapezoideArea(a,b,N):\n",
    "    h = (b-a)/N;\n",
    "    sum = 0.0;  \n",
    "    for k in range(N):\n",
    "        termino = h*(f(a+k*h)+f(a+(k+1)*h))/2\n",
    "        sum += termino\n",
    "    return sum\n",
    "# La fórmula de Romberg definida de forma recursiva con almacenamiento en caché r_int calculará R [k, j] \n",
    "# pero luego recordará ese resultado en la lista R para acelerar los cálculos posteriores.\n",
    "def r_int(a,b,k,j,R):\n",
    "    if R[k][j] != -1: #¿se ha visto este k, j antes?\n",
    "        return R[k][j] # Si es así, devuelva el valor en caché        \n",
    "    # Si no es así, calcule, almacene en caché y devuelva el resultado\n",
    "    if j == 1:\n",
    "        R[k][j] = trapezoideArea(a,b,2**(k-1))\n",
    "    elif k < j:\n",
    "        R[k][j] = 0\n",
    "    else:\n",
    "        R[k][j] = r_int(a,b,k,j-1,R) + (r_int(a,b,k,j-1,R)-r_int(a,b,k-1,j-1,R))/(4**(j-1)-1)\n",
    "    return R[k][j]     \n",
    "def romberg(a,b,k,j):\n",
    "    R = [[-1 for c in range(j+1)] for r in range(k+1)]\n",
    "    return r_int(a,b,k,j,R)\n",
    "        \n",
    "print(\" [j] estimado  error\");\n",
    "for j in range(3,22,2):\n",
    "    estimado = romberg(1,math.pi,j,j)\n",
    "    error = math.fabs(0.4623834 - estimado)\n",
    "    print(\"{:>3d}  {:f}  {:.16f}\".format(j,estimado,error))"
   ]
  },
  {
   "cell_type": "markdown",
   "id": "5a2e54fb-5b52-40b7-bc5e-bba3a4971da6",
   "metadata": {},
   "source": [
    "### **Ejercicio d):** $cos(x^{2})$\n",
    "\n"
   ]
  },
  {
   "cell_type": "code",
   "execution_count": 14,
   "id": "aa50396f-1fa6-4fe2-a644-6b52556d70bb",
   "metadata": {},
   "outputs": [
    {
     "name": "stdout",
     "output_type": "stream",
     "text": [
      " [j] estimado  error\n",
      "  3  -0.052089  0.2867413397682104\n",
      "  5  -0.338532  0.0002981094543703\n",
      "  7  -0.338831  0.0000007256210477\n",
      "  9  -0.338831  0.0000007242935896\n",
      " 11  -0.338831  0.0000007242935889\n",
      " 13  -0.338831  0.0000007242935889\n",
      " 15  -0.338831  0.0000007242935906\n",
      " 17  -0.338831  0.0000007242935864\n",
      " 19  -0.338831  0.0000007242935920\n",
      " 21  -0.338831  0.0000007242936155\n"
     ]
    }
   ],
   "source": [
    "import math\n",
    "from math import e\n",
    "from math import pi\n",
    "from math import sin\n",
    "from math import cos\n",
    "# funcion objetivo (D)\n",
    "def f(x):\n",
    "    return cos(x**2)\n",
    "#Calcule una aproximación a la integral de f (x) de a a b usando trapezoides con pasos de tamaño (b-a) / N\n",
    "def trapezoideArea(a,b,N):\n",
    "    h = (b-a)/N;\n",
    "    sum = 0.0;  \n",
    "    for k in range(N):\n",
    "        termino = h*(f(a+k*h)+f(a+(k+1)*h))/2\n",
    "        sum += termino\n",
    "    return sum\n",
    "# La fórmula de Romberg definida de forma recursiva con almacenamiento en caché r_int calculará R [k, j] \n",
    "# pero luego recordará ese resultado en la lista R para acelerar los cálculos posteriores.\n",
    "def r_int(a,b,k,j,R):\n",
    "    if R[k][j] != -1: #¿se ha visto este k, j antes?\n",
    "        return R[k][j] # Si es así, devuelva el valor en caché        \n",
    "    # Si no es así, calcule, almacene en caché y devuelva el resultado\n",
    "    if j == 1:\n",
    "        R[k][j] = trapezoideArea(a,b,2**(k-1))\n",
    "    elif k < j:\n",
    "        R[k][j] = 0\n",
    "    else:\n",
    "        R[k][j] = r_int(a,b,k,j-1,R) + (r_int(a,b,k,j-1,R)-r_int(a,b,k-1,j-1,R))/(4**(j-1)-1)\n",
    "    return R[k][j]     \n",
    "def romberg(a,b,k,j):\n",
    "    R = [[-1 for c in range(j+1)] for r in range(k+1)]\n",
    "    return r_int(a,b,k,j,R)\n",
    "        \n",
    "print(\" [j] estimado  error\");\n",
    "for j in range(3,22,2):\n",
    "    estimado = romberg(1,math.pi,j,j)\n",
    "    error = math.fabs(-0.338830 - estimado)\n",
    "    print(\"{:>3d}  {:f}  {:.16f}\".format(j,estimado,error))"
   ]
  },
  {
   "cell_type": "markdown",
   "id": "e8c3436c-304b-427a-874d-b429a145de3b",
   "metadata": {},
   "source": [
    "### **Ejercicio e):** $e^{-x^{2}}$\n",
    "\n"
   ]
  },
  {
   "cell_type": "code",
   "execution_count": 15,
   "id": "e77fd787-ed10-415f-a81d-efe5479b8b21",
   "metadata": {},
   "outputs": [
    {
     "name": "stdout",
     "output_type": "stream",
     "text": [
      " [j] estimado  error\n",
      "  3  0.138141  0.0012526776995375\n",
      "  5  0.139395  0.0000010555446089\n",
      "  7  0.139395  0.0000009263606422\n",
      "  9  0.139395  0.0000009263604255\n",
      " 11  0.139395  0.0000009263604255\n",
      " 13  0.139395  0.0000009263604247\n",
      " 15  0.139395  0.0000009263604279\n",
      " 17  0.139395  0.0000009263604258\n",
      " 19  0.139395  0.0000009263604264\n",
      " 21  0.139395  0.0000009263604354\n"
     ]
    }
   ],
   "source": [
    "import math\n",
    "from math import e\n",
    "from math import pi\n",
    "# funcion objetivo (E)\n",
    "def f(x):\n",
    "    return e**(-x**2)\n",
    "#Calcule una aproximación a la integral de f (x) de a a b usando trapezoides con pasos de tamaño (b-a) / N\n",
    "def trapezoideArea(a,b,N):\n",
    "    h = (b-a)/N;\n",
    "    sum = 0.0;  \n",
    "    for k in range(N):\n",
    "        termino = h*(f(a+k*h)+f(a+(k+1)*h))/2\n",
    "        sum += termino\n",
    "    return sum\n",
    "# La fórmula de Romberg definida de forma recursiva con almacenamiento en una matriz r_int calculará R [k, j] \n",
    "# pero luego recordará ese resultado en la lista R para acelerar los cálculos posteriores.\n",
    "def r_int(a,b,k,j,R):\n",
    "    if R[k][j] != -1: #¿se ha visto este k, j antes?\n",
    "        return R[k][j] # Si es así, devuelva el valor en la matriz\n",
    "    # Si no es así, calcule, almacene en la matriz y devuelva el resultado\n",
    "    if j == 1:\n",
    "        R[k][j] = trapezoideArea(a,b,2**(k-1))\n",
    "    elif k < j:\n",
    "        R[k][j] = 0\n",
    "    else:\n",
    "        R[k][j] = r_int(a,b,k,j-1,R) + (r_int(a,b,k,j-1,R)-r_int(a,b,k-1,j-1,R))/(4**(j-1)-1)\n",
    "    return R[k][j]     \n",
    "def romberg(a,b,k,j):\n",
    "    R = [[-1 for c in range(j+1)] for r in range(k+1)]\n",
    "    return r_int(a,b,k,j,R)\n",
    "        \n",
    "print(\" [j] estimado  error\");\n",
    "for j in range(3,22,2):\n",
    "    estimado = romberg(1,math.pi,j,j)\n",
    "    error = math.fabs(0.139394 - estimado)\n",
    "    print(\"{:>3d}  {:f}  {:.16f}\".format(j,estimado,error))"
   ]
  },
  {
   "cell_type": "markdown",
   "id": "084897c2-f98e-482a-8f55-c37b4cbe1e2f",
   "metadata": {},
   "source": [
    "### **Ejercicio f):** $e^{x^{2}}$\n",
    "\n"
   ]
  },
  {
   "cell_type": "code",
   "execution_count": 16,
   "id": "ef73d07e-c692-4da3-94b8-bacc44a1c7a3",
   "metadata": {},
   "outputs": [
    {
     "name": "stdout",
     "output_type": "stream",
     "text": [
      " [j] estimado  error\n",
      "  3  3928.066855  662.3928546389438452\n",
      "  5  3266.823049  1.1490487303417467\n",
      "  7  3265.674456  0.0004563931493067\n",
      "  9  3265.674442  0.0004416659526214\n",
      " 11  3265.674442  0.0004416659480739\n",
      " 13  3265.674442  0.0004416659508024\n",
      " 15  3265.674442  0.0004416659498929\n",
      " 17  3265.674442  0.0004416659539856\n",
      " 19  3265.674442  0.0004416659917297\n",
      " 21  3265.674442  0.0004416659880917\n"
     ]
    }
   ],
   "source": [
    "import math\n",
    "from math import e\n",
    "from math import pi\n",
    "# funcion objetivo (F)\n",
    "def f(x):\n",
    "    return e**(x**2)\n",
    "#Calcule una aproximación a la integral de f (x) de a a b usando trapezoides con pasos de tamaño (b-a) / N\n",
    "def trapezoideArea(a,b,N):\n",
    "    h = (b-a)/N;\n",
    "    sum = 0.0;  \n",
    "    for k in range(N):\n",
    "        termino = h*(f(a+k*h)+f(a+(k+1)*h))/2\n",
    "        sum += termino\n",
    "    return sum\n",
    "# La fórmula de Romberg definida de forma recursiva con almacenamiento en caché r_int calculará R [k, j] \n",
    "# pero luego recordará ese resultado en la lista R para acelerar los cálculos posteriores.\n",
    "def r_int(a,b,k,j,R):\n",
    "    if R[k][j] != -1: #¿se ha visto este k, j antes?\n",
    "        return R[k][j] # Si es así, devuelva el valor en caché        \n",
    "    # Si no es así, calcule, almacene en caché y devuelva el resultado\n",
    "    if j == 1:\n",
    "        R[k][j] = trapezoideArea(a,b,2**(k-1))\n",
    "    elif k < j:\n",
    "        R[k][j] = 0\n",
    "    else:\n",
    "        R[k][j] = r_int(a,b,k,j-1,R) + (r_int(a,b,k,j-1,R)-r_int(a,b,k-1,j-1,R))/(4**(j-1)-1)\n",
    "    return R[k][j]     \n",
    "def romberg(a,b,k,j):\n",
    "    R = [[-1 for c in range(j+1)] for r in range(k+1)]\n",
    "    return r_int(a,b,k,j,R)\n",
    "        \n",
    "print(\" [j] estimado  error\");\n",
    "for j in range(3,22,2):\n",
    "    estimado = romberg(1,math.pi,j,j)\n",
    "    error = math.fabs(3265.674 - estimado)\n",
    "    print(\"{:>3d}  {:f}  {:.16f}\".format(j,estimado,error))"
   ]
  },
  {
   "cell_type": "markdown",
   "id": "1d805b8c-23d9-4df7-a483-8711d3c95420",
   "metadata": {},
   "source": [
    "### **Ejercicio g):** $\\sqrt{1+cos^{2}x}$\n",
    "\n"
   ]
  },
  {
   "cell_type": "code",
   "execution_count": 17,
   "id": "babdf1b5-4f2f-4ae5-a969-f86fabca5716",
   "metadata": {},
   "outputs": [
    {
     "name": "stdout",
     "output_type": "stream",
     "text": [
      " [j] estimado  error\n",
      "  3  2.507833  0.0009170159654706\n",
      "  5  2.508754  0.0000039395355933\n",
      "  7  2.508755  0.0000052907977968\n",
      "  9  2.508755  0.0000052908121684\n",
      " 11  2.508755  0.0000052908121670\n",
      " 13  2.508755  0.0000052908121746\n",
      " 15  2.508755  0.0000052908121559\n",
      " 17  2.508755  0.0000052908121715\n",
      " 19  2.508755  0.0000052908122732\n",
      " 21  2.508755  0.0000052908120125\n"
     ]
    }
   ],
   "source": [
    "import math\n",
    "from math import e\n",
    "from math import pi\n",
    "from math import sqrt\n",
    "from math import cos\n",
    "# funcion objetivo (G)\n",
    "def f(x):\n",
    "    return sqrt(1+cos(x)**2)\n",
    "#Calcule una aproximación a la integral de f (x) de a a b usando trapezoides con pasos de tamaño (b-a) / N\n",
    "def trapezoideArea(a,b,N):\n",
    "    h = (b-a)/N;\n",
    "    sum = 0.0;  \n",
    "    for k in range(N):\n",
    "        termino = h*(f(a+k*h)+f(a+(k+1)*h))/2\n",
    "        sum += termino\n",
    "    return sum\n",
    "# La fórmula de Romberg definida de forma recursiva con almacenamiento en caché r_int calculará R [k, j] \n",
    "# pero luego recordará ese resultado en la lista R para acelerar los cálculos posteriores.\n",
    "def r_int(a,b,k,j,R):\n",
    "    if R[k][j] != -1: #¿se ha visto este k, j antes?\n",
    "        return R[k][j] # Si es así, devuelva el valor en caché        \n",
    "    # Si no es así, calcule, almacene en caché y devuelva el resultado\n",
    "    if j == 1:\n",
    "        R[k][j] = trapezoideArea(a,b,2**(k-1))\n",
    "    elif k < j:\n",
    "        R[k][j] = 0\n",
    "    else:\n",
    "        R[k][j] = r_int(a,b,k,j-1,R) + (r_int(a,b,k,j-1,R)-r_int(a,b,k-1,j-1,R))/(4**(j-1)-1)\n",
    "    return R[k][j]     \n",
    "def romberg(a,b,k,j):\n",
    "    R = [[-1 for c in range(j+1)] for r in range(k+1)]\n",
    "    return r_int(a,b,k,j,R)\n",
    "        \n",
    "print(\" [j] estimado  error\");\n",
    "for j in range(3,22,2):\n",
    "    estimado = romberg(1,math.pi,j,j)\n",
    "    error = math.fabs(2.50875 - estimado)    \n",
    "    print(\"{:>3d}  {:f}  {:.16f}\".format(j,estimado,error))"
   ]
  },
  {
   "cell_type": "markdown",
   "id": "30176873-a1d7-47ed-aca7-c2365521998d",
   "metadata": {},
   "source": [
    "# BONUS"
   ]
  },
  {
   "cell_type": "code",
   "execution_count": 19,
   "id": "6b7b4f56-1107-42b1-9333-f41ba3a306fc",
   "metadata": {},
   "outputs": [
    {
     "name": "stdout",
     "output_type": "stream",
     "text": [
      "Romberg integration of <function vectorize1.<locals>.vfunc at 0x7f844c471820> from [1, 3.141592653589793]\n",
      "\n",
      " Steps  StepSize   Results\n",
      "     1  2.141593  3.613118 \n",
      "     2  1.070796  3.946809  4.058040 \n",
      "     4  0.535398  4.035334  4.064842  4.065296 \n",
      "     8  0.267699  4.057940  4.065475  4.065518  4.065521 \n",
      "    16  0.133850  4.063627  4.065523  4.065526  4.065526  4.065526 \n",
      "    32  0.066925  4.065051  4.065526  4.065526  4.065526  4.065526  4.065526 \n",
      "\n",
      "The final result is 4.065525924421563 after 33 function evaluations.\n",
      "4.065525924421563\n"
     ]
    }
   ],
   "source": [
    "\n",
    "# import numpy and scipy.integrate\n",
    "import math\n",
    "from math import e\n",
    "from math import pi\n",
    "from math import sin\n",
    "from math import cos\n",
    "from math import sqrt\n",
    "import numpy as np\n",
    "from scipy import integrate\n",
    "gfg = lambda x: math.sqrt(4.0 - (2-x)*(2-x))\n",
    "  \n",
    "# using scipy.integrate.romberg()\n",
    "geek = integrate.romberg(gfg, 1, np.pi, show = True)\n",
    "  \n",
    "print(geek)"
   ]
  },
  {
   "cell_type": "code",
   "execution_count": null,
   "id": "6384e098-27ec-4afe-9bb9-c11959cfc86c",
   "metadata": {},
   "outputs": [],
   "source": []
  }
 ],
 "metadata": {
  "kernelspec": {
   "display_name": "Python 3",
   "language": "python",
   "name": "python3"
  },
  "language_info": {
   "codemirror_mode": {
    "name": "ipython",
    "version": 3
   },
   "file_extension": ".py",
   "mimetype": "text/x-python",
   "name": "python",
   "nbconvert_exporter": "python",
   "pygments_lexer": "ipython3",
   "version": "3.8.10"
  }
 },
 "nbformat": 4,
 "nbformat_minor": 5
}
