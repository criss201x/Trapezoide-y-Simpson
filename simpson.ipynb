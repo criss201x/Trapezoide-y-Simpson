{
 "cells": [
  {
   "cell_type": "markdown",
   "id": "7287d989-d64f-4f77-b2dd-96dbb2392a8f",
   "metadata": {},
   "source": [
    "# **Método de Simpson - Ejercicios**\n",
    "\n",
    "### Realizado por: \n"
   ]
  },
  {
   "cell_type": "markdown",
   "id": "d03763cd-ee71-49d2-b946-8413e4147ed1",
   "metadata": {},
   "source": [
    "La regla de Simpson usa un polinomio cuadrático en cada subintervalo de una partición para aproximar la función f(x) y calcular la integral definida. Esta es una mejora con respecto a la regla del trapezoide que se aproxima f(x) por una línea recta en cada subintervalo de una partición. \n",
    "\n",
    "La fórmula de la regla de Simpson es\n",
    "\n",
    "### $s_{n}(f)=\\frac{\\Delta x}{3}\\sum _{i=1}^{N/2}(f(x_{2i-2})+f(x_{2i}))$\n",
    "\n",
    "dónde es un número par de subintervalos de [a.b], \n",
    "### $\\Delta x = (b-a)/N y x_{1} = a + i\\Delta x$\n",
    "\n",
    "Se ha visto que el error en una suma de Riemann es inversamente proporcional al tamaño de la partición N y la regla del trapezoide es inversamente proporcional a $N^{2}$ . La fórmula del error en el teorema siguiente muestra que la regla de Simpson es incluso mejor ya que el error es inversamente proporcional a $N^{4}$."
   ]
  },
  {
   "cell_type": "markdown",
   "id": "38a83728-4d39-40ff-bbb4-cfb796b61899",
   "metadata": {},
   "source": [
    "### **Algoritmo**"
   ]
  },
  {
   "cell_type": "markdown",
   "id": "58c5933c-db0b-4678-8594-b6bb9b00631d",
   "metadata": {},
   "source": [
    "Para integrar cualquier función f (x) en el intervalo (a, b), siga los pasos que se indican a continuación:\n",
    "1. Seleccione un valor para n, que es el número de partes en las que se divide el intervalo.\n",
    "2. Calcule el ancho, h = (b-a) / n\n",
    "3. Calcule los valores de x0 a xn como x0 = a, x1 = x0 + h,… ..xn-1 = xn-2 + h, xn = b. Considere y = f (x). Ahora encuentre los valores de y (y0 a yn) para los valores correspondientes de x (x0 a xn).\n",
    "4. Sustituya todos los valores encontrados anteriormente en la fórmula de la regla de Simpson para calcular el valor integral. El valor aproximado de la integral se puede dar mediante la regla de Simpson:"
   ]
  },
  {
   "cell_type": "markdown",
   "id": "898d4588-043b-4bd8-8f74-58a0923eb03c",
   "metadata": {},
   "source": [
    "### **Codigo**"
   ]
  },
  {
   "cell_type": "markdown",
   "id": "da0f5d7e-6dfc-4c9e-9d46-0f5a0f1b7d34",
   "metadata": {},
   "source": [
    "1. Comience usando la función linspace numpy para construir el conjunto de puntos $x_{0} $ = una a $x_{N-1}$ = b - h en pasos de tamaño h .\n",
    "2. Utilice el método de evaluación de funciones vectoriales numpy para calcular f ( x ) evaluado en cada uno de estos puntos. Multiplicamos todos estos valores por 2.\n",
    "3. A continuación, desplazamos todos estos puntos de muestra hacia la derecha en h / 2 y evaluamos f ( x ) en cada uno de los puntos desplazados. Multiplicamos todos estos valores por 4.\n",
    "4. Si sumamos todos los valores calculados en los pasos 2 y 3, casi obtendremos la suma que queremos. El único ajuste que debemos hacer es para la primera y la última entrada en la fórmula de suma. Terminaremos con un término que se parece a 2 f ($x_{0}$) en lugar del f ($x_{0}$) que queremos al comienzo de la suma, y terminaremos sin término para f ($x_{N}$). Podemos solucionar estos problemas sumando f ( b ) - f ( a ) a nuestra suma.\n",
    "5. Luego tomamos nuestra suma final y la multiplicamos por h / 6 para obtener la estimación del área."
   ]
  },
  {
   "cell_type": "markdown",
   "id": "cabc15f1-82e1-45c4-af94-ed8dc8d45a1b",
   "metadata": {},
   "source": [
    "### **Error absoluto** $10^{-2}$"
   ]
  },
  {
   "cell_type": "code",
   "execution_count": 12,
   "id": "33e27d0d-c07c-474e-be63-178ed733b375",
   "metadata": {},
   "outputs": [
    {
     "name": "stdout",
     "output_type": "stream",
     "text": [
      "0.01\n"
     ]
    }
   ],
   "source": [
    "print(abs(10**(-2)))"
   ]
  },
  {
   "cell_type": "markdown",
   "id": "6d4287d0-b776-40e7-aa87-bbad105c0abc",
   "metadata": {},
   "source": [
    "### NOTA: el codigo aplica para todos los ejercicios, lo unico que cambia es la funcion objetivo y el valor real"
   ]
  },
  {
   "cell_type": "markdown",
   "id": "755d2c6a-bbb9-47b6-8330-aebd7ff54da3",
   "metadata": {},
   "source": [
    "### **Ejercicio a):** $\\frac{e^{x}}{x}$\n",
    "\n"
   ]
  },
  {
   "cell_type": "code",
   "execution_count": 13,
   "id": "c96a7947-6fdd-4db4-a1a9-c4ba9c850c40",
   "metadata": {},
   "outputs": [
    {
     "name": "stdout",
     "output_type": "stream",
     "text": [
      "      N Estimado error\n",
      "      8 9.033272 0.00327187\n",
      "     32 9.033257 0.00325663\n",
      "    128 9.033257 0.00325657\n",
      "    512 9.033257 0.00325657\n",
      "   2048 9.033257 0.00325657\n",
      "   8192 9.033257 0.00325657\n",
      "  32768 9.033257 0.00325657\n",
      " 131072 9.033257 0.00325657\n",
      " 524288 9.033257 0.00325657\n"
     ]
    }
   ],
   "source": [
    "import numpy as np\n",
    "import math\n",
    "from math import e\n",
    "from math import pi\n",
    "\n",
    "# Funcion objetivo\n",
    "def f(x):\n",
    "    return (e**x)/x\n",
    "\n",
    "# Calcule una aproximación a la integral\n",
    "# de f (x) de a hasta b utilizando la regla de Simpson\n",
    "# con escalones de tamaño h = (b-a) / N\n",
    "def SimpsonArea(a,b,N):\n",
    "    h = (b-a)/N\n",
    "    x = np.linspace(a,b-h,N)\n",
    "    return h/3*(f(x).sum()) + 2*h/3*(f(x+h/2).sum()) - h*f(a)/6 + h*f(b)/6#algoritmo de simpson \n",
    "\n",
    "print(\"      N Estimado error\");\n",
    "for j in range(3,20,2):\n",
    "    estimate = SimpsonArea(1,pi,2**j)\n",
    "    error = math.fabs(9.03 - estimate)\n",
    "    print(\"{:>7d} {:f} {:g}\".format(2**j, estimate ,error))"
   ]
  },
  {
   "cell_type": "markdown",
   "id": "ea8a76a3-d638-44ef-9001-a60857c40597",
   "metadata": {},
   "source": [
    "### **Ejercicio b):** $\\frac{e^{-x}}{x}$\n",
    "\n"
   ]
  },
  {
   "cell_type": "code",
   "execution_count": 20,
   "id": "132c3f2d-a6f3-47f7-8d45-b9c9d2c9e7ef",
   "metadata": {},
   "outputs": [
    {
     "name": "stdout",
     "output_type": "stream",
     "text": [
      "      N Estimado error\n",
      "      8 0.208488 0.00848764\n",
      "     32 0.208478 0.00847767\n",
      "    128 0.208478 0.00847763\n",
      "    512 0.208478 0.00847763\n",
      "   2048 0.208478 0.00847763\n",
      "   8192 0.208478 0.00847763\n",
      "  32768 0.208478 0.00847763\n",
      " 131072 0.208478 0.00847763\n",
      " 524288 0.208478 0.00847763\n"
     ]
    }
   ],
   "source": [
    "import numpy as np\n",
    "import math\n",
    "from math import e\n",
    "from math import pi\n",
    "\n",
    "# Funcion objetivo\n",
    "def f(x):\n",
    "    return (e**-x)/x\n",
    "\n",
    "# Calcule una aproximación a la integral\n",
    "# de f (x) de a hasta b utilizando la regla de Simpson\n",
    "# con escalones de tamaño h = (b-a) / N\n",
    "def SimpsonArea(a,b,N):\n",
    "    h = (b-a)/N\n",
    "    x = np.linspace(a,b-h,N)\n",
    "    return h/3*(f(x).sum()) + 2*h/3*(f(x+h/2).sum()) - h*f(a)/6 + h*f(b)/6#algoritmo de simpson \n",
    "\n",
    "print(\"      N Estimado error\");\n",
    "for j in range(3,20,2):\n",
    "    estimate = SimpsonArea(1,pi,2**j)\n",
    "    error = math.fabs(0.2 - estimate)\n",
    "    print(\"{:>7d} {:f} {:g}\".format(2**j, estimate ,error))"
   ]
  },
  {
   "cell_type": "markdown",
   "id": "2af1dbb0-075e-4a14-91e5-bfd635b366ba",
   "metadata": {},
   "source": [
    "### **Ejercicio c):** $sin(x^{2})$\n",
    "\n"
   ]
  },
  {
   "cell_type": "code",
   "execution_count": 40,
   "id": "3dfe356d-c34e-40c9-9bd9-d4afff9145a7",
   "metadata": {},
   "outputs": [
    {
     "name": "stdout",
     "output_type": "stream",
     "text": [
      "      N Estimado error\n",
      "      8 0.462881 0.0371187\n",
      "     32 0.462385 0.0376148\n",
      "    128 0.462383 0.0376166\n",
      "    512 0.462383 0.0376166\n",
      "   2048 0.462383 0.0376166\n",
      "   8192 0.462383 0.0376166\n",
      "  32768 0.462383 0.0376166\n",
      " 131072 0.462383 0.0376166\n",
      " 524288 0.462383 0.0376166\n"
     ]
    }
   ],
   "source": [
    "import numpy as np\n",
    "import math\n",
    "from math import e\n",
    "from math import pi\n",
    "\n",
    "# Funcion objetivo\n",
    "def f(x):\n",
    "    return np.sin(x**2)\n",
    "\n",
    "# Calcule una aproximación a la integral\n",
    "# de f (x) de a hasta b utilizando la regla de Simpson\n",
    "# con escalones de tamaño h = (b-a) / N\n",
    "def SimpsonArea(a,b,N):\n",
    "    h = (b-a)/N\n",
    "    x = np.linspace(a,b-h,N)\n",
    "    return h/3*(f(x).sum()) + 2*h/3*(f(x+h/2).sum()) - h*f(a)/6 + h*f(b)/6#algoritmo de simpson \n",
    "\n",
    "print(\"      N Estimado error\");\n",
    "for j in range(3,20,2):\n",
    "    estimate = SimpsonArea(1,pi,2**j)\n",
    "    error = math.fabs(0.5 - estimate)\n",
    "    print(\"{:>7d} {:f} {:g}\".format(2**j, estimate ,error))"
   ]
  },
  {
   "cell_type": "markdown",
   "id": "b2841581-b6af-4c73-b67c-5d7950432c46",
   "metadata": {},
   "source": [
    "### **Ejercicio d):** $cos(x^{2})$\n",
    "\n"
   ]
  },
  {
   "cell_type": "code",
   "execution_count": 47,
   "id": "bd2bd89e-f764-4e4f-902c-c65fe4cd8ad9",
   "metadata": {},
   "outputs": [
    {
     "name": "stdout",
     "output_type": "stream",
     "text": [
      "      N Estimado error\n",
      "      8 -0.338956 0.00895648\n",
      "     32 -0.338831 0.00883123\n",
      "    128 -0.338831 0.00883073\n",
      "    512 -0.338831 0.00883072\n",
      "   2048 -0.338831 0.00883072\n",
      "   8192 -0.338831 0.00883072\n",
      "  32768 -0.338831 0.00883072\n",
      " 131072 -0.338831 0.00883072\n",
      " 524288 -0.338831 0.00883072\n"
     ]
    }
   ],
   "source": [
    "import numpy as np\n",
    "import math\n",
    "from math import e\n",
    "from math import pi\n",
    "\n",
    "# Funcion objetivo\n",
    "def f(x):\n",
    "    return np.cos(x**2)\n",
    "\n",
    "# Calcule una aproximación a la integral\n",
    "# de f (x) de a hasta b utilizando la regla de Simpson\n",
    "# con escalones de tamaño h = (b-a) / N\n",
    "def SimpsonArea(a,b,N):\n",
    "    h = (b-a)/N\n",
    "    x = np.linspace(a,b-h,N)\n",
    "    return h/3*(f(x).sum()) + 2*h/3*(f(x+h/2).sum()) - h*f(a)/6 + h*f(b)/6#algoritmo de simpson \n",
    "\n",
    "print(\"      N Estimado error\");\n",
    "for j in range(3,20,2):\n",
    "    estimate = SimpsonArea(1,pi,2**j)\n",
    "    error = math.fabs(-0.33 - estimate)\n",
    "    print(\"{:>7d} {:f} {:g}\".format(2**j, estimate ,error))"
   ]
  },
  {
   "cell_type": "markdown",
   "id": "8af2a3b9-44d9-4694-9354-e2a9f869f37f",
   "metadata": {},
   "source": [
    "### **Ejercicio e):** $e^{-x^{2}}$\n",
    "\n"
   ]
  },
  {
   "cell_type": "code",
   "execution_count": 51,
   "id": "41184a77-63d5-4e83-ae74-813373154c82",
   "metadata": {},
   "outputs": [
    {
     "name": "stdout",
     "output_type": "stream",
     "text": [
      "      N Estimado error\n",
      "      8 0.139392 0.0093923\n",
      "     32 0.139395 0.00939492\n",
      "    128 0.139395 0.00939493\n",
      "    512 0.139395 0.00939493\n",
      "   2048 0.139395 0.00939493\n",
      "   8192 0.139395 0.00939493\n",
      "  32768 0.139395 0.00939493\n",
      " 131072 0.139395 0.00939493\n",
      " 524288 0.139395 0.00939493\n"
     ]
    }
   ],
   "source": [
    "import numpy as np\n",
    "import math\n",
    "from math import e\n",
    "from math import pi\n",
    "\n",
    "# Funcion objetivo\n",
    "def f(x):\n",
    "    return e**(-x**2)\n",
    "\n",
    "# Calcule una aproximación a la integral\n",
    "# de f (x) de a hasta b utilizando la regla de Simpson\n",
    "# con escalones de tamaño h = (b-a) / N\n",
    "def SimpsonArea(a,b,N):\n",
    "    h = (b-a)/N\n",
    "    x = np.linspace(a,b-h,N)\n",
    "    return h/3*(f(x).sum()) + 2*h/3*(f(x+h/2).sum()) - h*f(a)/6 + h*f(b)/6#algoritmo de simpson \n",
    "\n",
    "print(\"      N Estimado error\");\n",
    "for j in range(3,20,2):\n",
    "    estimate = SimpsonArea(1,pi,2**j)\n",
    "    error = math.fabs(0.13 - estimate)\n",
    "    print(\"{:>7d} {:f} {:g}\".format(2**j, estimate ,error))"
   ]
  },
  {
   "cell_type": "markdown",
   "id": "9502e532-5bf3-4d71-9c8b-8938a0a58bfb",
   "metadata": {},
   "source": [
    "### **Ejercicio f):** $e^{x^{2}}$\n",
    "\n"
   ]
  },
  {
   "cell_type": "code",
   "execution_count": 61,
   "id": "1e50f858-9e09-464f-927d-be240949e5c7",
   "metadata": {},
   "outputs": [
    {
     "name": "stdout",
     "output_type": "stream",
     "text": [
      "      N Estimado error\n",
      "      8 3274.525092 263.475\n",
      "     32 3265.712653 272.287\n",
      "    128 3265.674592 272.325\n",
      "    512 3265.674442 272.326\n",
      "   2048 3265.674442 272.326\n",
      "   8192 3265.674442 272.326\n",
      "  32768 3265.674442 272.326\n",
      " 131072 3265.674442 272.326\n",
      " 524288 3265.674442 272.326\n"
     ]
    }
   ],
   "source": [
    "import numpy as np\n",
    "import math\n",
    "from math import e\n",
    "from math import pi\n",
    "\n",
    "# Funcion objetivo\n",
    "def f(x):\n",
    "    return e**(x**2)\n",
    "\n",
    "# Calcule una aproximación a la integral\n",
    "# de f (x) de a hasta b utilizando la regla de Simpson\n",
    "# con escalones de tamaño h = (b-a) / N\n",
    "def SimpsonArea(a,b,N):\n",
    "    h = (b-a)/N\n",
    "    x = np.linspace(a,b-h,N)\n",
    "    return h/3*(f(x).sum()) + 2*h/3*(f(x+h/2).sum()) - h*f(a)/6 + h*f(b)/6#algoritmo de simpson \n",
    "\n",
    "print(\"      N Estimado error\");\n",
    "for j in range(3,20,2):\n",
    "    estimate = SimpsonArea(1,pi,2**j)\n",
    "    error = math.fabs(3538 - estimate)\n",
    "    print(\"{:>7d} {:f} {:g}\".format(2**j, estimate ,error))"
   ]
  },
  {
   "cell_type": "markdown",
   "id": "a8a4e28c-38c5-4085-bb6a-1610c1da93e6",
   "metadata": {},
   "source": [
    "### **Ejercicio g):** $\\sqrt{1+cos^{2}x}$\n",
    "\n"
   ]
  },
  {
   "cell_type": "code",
   "execution_count": 69,
   "id": "266a08ac-e04d-4651-b6b0-9da701263d86",
   "metadata": {},
   "outputs": [
    {
     "name": "stdout",
     "output_type": "stream",
     "text": [
      "      N Estimado error\n",
      "      8 2.508752 0.00875198\n",
      "     32 2.508755 0.00875528\n",
      "    128 2.508755 0.00875529\n",
      "    512 2.508755 0.00875529\n",
      "   2048 2.508755 0.00875529\n",
      "   8192 2.508755 0.00875529\n",
      "  32768 2.508755 0.00875529\n",
      " 131072 2.508755 0.00875529\n",
      " 524288 2.508755 0.00875529\n"
     ]
    }
   ],
   "source": [
    "import numpy as np\n",
    "import math\n",
    "from math import e\n",
    "from math import pi\n",
    "#from math import sqrt\n",
    "from math import cos\n",
    "# Funcion objetivo\n",
    "def f(x):\n",
    "    return np.sqrt(1+np.cos(x)**2)\n",
    "\n",
    "# Calcule una aproximación a la integral\n",
    "# de f (x) de a hasta b utilizando la regla de Simpson\n",
    "# con escalones de tamaño h = (b-a) / N\n",
    "def SimpsonArea(a,b,N):\n",
    "    h = (b-a)/N\n",
    "    x = np.linspace(a,b-h,N)\n",
    "    return h/3*(f(x).sum()) + 2*h/3*(f(x+h/2).sum()) - h*f(a)/6 + h*f(b)/6#algoritmo de simpson \n",
    "\n",
    "print(\"      N Estimado error\");\n",
    "for j in range(3,20,2):\n",
    "    estimate = SimpsonArea(1,pi,2**j)\n",
    "    error = math.fabs(2.5 - estimate)\n",
    "    print(\"{:>7d} {:f} {:g}\".format(2**j, estimate ,error))"
   ]
  },
  {
   "cell_type": "code",
   "execution_count": 62,
   "id": "b936a15d-9c5f-428c-9552-06aa2bf4c0e8",
   "metadata": {},
   "outputs": [
    {
     "name": "stdout",
     "output_type": "stream",
     "text": [
      "2.508592\n"
     ]
    }
   ],
   "source": [
    "\n",
    "# Python code for simpson's 1 / 3 rule\n",
    "import math\n",
    "from math import e\n",
    "from math import pi\n",
    "from math import sqrt\n",
    "from math import cos\n",
    " \n",
    "# Function to calculate f(x)\n",
    "def func( x ):\n",
    "    return sqrt(1+cos(x)**2)\n",
    " \n",
    "# Function for approximate integral\n",
    "def simpsons_( ll, ul, n ):\n",
    " \n",
    "    # Calculating the value of h\n",
    "    h = ( ul - ll )/n\n",
    " \n",
    "    # List for storing value of x and f(x)\n",
    "    x = list()\n",
    "    fx = list()\n",
    "     \n",
    "    # Calcuting values of x and f(x)\n",
    "    i = 0\n",
    "    while i<= n:\n",
    "        x.append(ll + i * h)\n",
    "        fx.append(func(x[i]))\n",
    "        i += 1\n",
    " \n",
    "    # Calculating result\n",
    "    res = 0\n",
    "    i = 0\n",
    "    while i<= n:\n",
    "        if i == 0 or i == n:\n",
    "            res+= fx[i]\n",
    "        elif i % 2 != 0:\n",
    "            res+= 4 * fx[i]\n",
    "        else:\n",
    "            res+= 2 * fx[i]\n",
    "        i+= 1\n",
    "    res = res * (h / 3)\n",
    "    return res     \n",
    "# Driver code\n",
    "lower_limit = 1   # Lower limit\n",
    "upper_limit = pi # Upper limit\n",
    "n = 6 # Number of interval\n",
    "print(\"%.6f\"% simpsons_(lower_limit, upper_limit, n))"
   ]
  },
  {
   "cell_type": "code",
   "execution_count": null,
   "id": "2227ffe4-95fa-4842-ac3b-46c6c9ca7934",
   "metadata": {},
   "outputs": [],
   "source": []
  },
  {
   "cell_type": "code",
   "execution_count": null,
   "id": "87ccf882-8d55-4f63-b56e-ea22062bc64f",
   "metadata": {},
   "outputs": [],
   "source": [
    "#http://www2.lawrence.edu/fast/GREGGJ/CMSC210/sympy/Simpson.html"
   ]
  }
 ],
 "metadata": {
  "kernelspec": {
   "display_name": "Python 3",
   "language": "python",
   "name": "python3"
  },
  "language_info": {
   "codemirror_mode": {
    "name": "ipython",
    "version": 3
   },
   "file_extension": ".py",
   "mimetype": "text/x-python",
   "name": "python",
   "nbconvert_exporter": "python",
   "pygments_lexer": "ipython3",
   "version": "3.8.10"
  }
 },
 "nbformat": 4,
 "nbformat_minor": 5
}
